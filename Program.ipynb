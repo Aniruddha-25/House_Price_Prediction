{
 "cells": [
  {
   "cell_type": "markdown",
   "metadata": {},
   "source": [
    "<-----------------------------------------------------><br>House Price Pridiction Project<br>\n",
    "<----------------------------------------------------->\n"
   ]
  },
  {
   "cell_type": "markdown",
   "metadata": {},
   "source": [
    "Project Goal:-<br> To find the price of home by using its multiple features\n"
   ]
  },
  {
   "cell_type": "code",
   "execution_count": null,
   "metadata": {},
   "outputs": [],
   "source": [
    "import numpy as np\n",
    "import pandas as pd\n",
    "from pandas.api.types import CategoricalDtype\n",
    "import matplotlib.pyplot as plt\n",
    "import seaborn as sns\n",
    "import calendar\n",
    "from sklearn.preprocessing import StandardScaler"
   ]
  },
  {
   "cell_type": "code",
   "execution_count": null,
   "metadata": {},
   "outputs": [],
   "source": [
    "train_data = pd.read_csv(\"./Data/train.csv\")\n",
    "test_data = pd.read_csv(\"./Data/test.csv\")"
   ]
  },
  {
   "cell_type": "code",
   "execution_count": null,
   "metadata": {},
   "outputs": [],
   "source": [
    "train_data.shape"
   ]
  },
  {
   "cell_type": "code",
   "execution_count": null,
   "metadata": {},
   "outputs": [],
   "source": [
    "test_data.shape"
   ]
  },
  {
   "cell_type": "code",
   "execution_count": null,
   "metadata": {},
   "outputs": [],
   "source": [
    "train_data.head()"
   ]
  },
  {
   "cell_type": "code",
   "execution_count": null,
   "metadata": {},
   "outputs": [],
   "source": [
    "test_data.head()"
   ]
  },
  {
   "cell_type": "markdown",
   "metadata": {},
   "source": [
    "# Variable Descriptions\n",
    "\n",
    "- **MSSubClass:** Building class type (e.g., 1-Story, 2-Story).\n",
    "- **MSZoning:** Zoning classification (e.g., Residential, Commercial).\n",
    "- **LotFrontage:** Linear feet of street connected to the property.\n",
    "- **LotArea:** Lot size in square feet.\n",
    "- **LotShape:** Shape of the property lot (Reg, IR1, IR2, IR3).\n",
    "- **LotConfig:** Lot configuration (e.g., Corner, Inside).\n",
    "- **BldgType:** Type of dwelling (e.g., Single-family, Duplex).\n",
    "- **HouseStyle:** Style of the dwelling (e.g., 1Story, 2Story).\n",
    "- **RoofStyle:** Style of the roof (e.g., Gable, Hip).\n",
    "- **RoofMatl:** Material used for the roof (e.g., CompShg, Tar&Grv).\n",
    "- **Exterior1st:** Primary exterior covering (e.g., Vinyl, Brick).\n",
    "- **Exterior2nd:** Secondary exterior covering.\n",
    "- **MasVnrType:** Masonry veneer type (e.g., Brick, Stone).\n",
    "- **MasVnrArea:** Masonry veneer area in square feet.\n",
    "- **ExterQual:** Exterior material quality (Ex, Gd, TA, Fa, Po).\n",
    "- **ExterCond:** Exterior condition rating (Ex, Gd, TA, Fa, Po).\n",
    "- **BsmtQual:** Basement height rating (Ex, Gd, TA, Fa, Po).\n",
    "- **BsmtCond:** Basement condition rating (Ex, Gd, TA, Fa, Po).\n",
    "- **BsmtExposure:** Walkout or garden-level basement exposure.\n",
    "- **BsmtFinType1:** Basement finish type (e.g., GLQ, ALQ).\n",
    "- **BsmtFinSF1:** Finished square feet for Type 1.\n",
    "- **BsmtFinType2:** Secondary basement finish type.\n",
    "- **BsmtFinSF2:** Finished square feet for Type 2.\n",
    "- **BsmtUnfSF:** Unfinished square feet of the basement.\n",
    "- **TotalBsmtSF:** Total square feet of basement area.\n",
    "- **Heating:** Type of heating system (e.g., Gas, Electric).\n",
    "- **HeatingQC:** Heating quality and condition (Ex, Gd, TA, Fa, Po).\n",
    "- **CentralAir:** Central air conditioning (Y = Yes, N = No).\n",
    "- **1stFlrSF:** First-floor square feet.\n",
    "- **2ndFlrSF:** Second-floor square feet.\n",
    "- **LowQualFinSF:** Low-quality finished square feet.\n",
    "- **GrLivArea:** Above-grade (ground) living area in square feet.\n",
    "- **BsmtFullBath:** Full bathrooms in basement.\n",
    "- **BsmtHalfBath:** Half bathrooms in basement.\n",
    "- **FullBath:** Full bathrooms above grade.\n",
    "- **HalfBath:** Half bathrooms above grade.\n",
    "- **BedroomAbvGr:** Bedrooms above grade.\n",
    "- **KitchenAbvGr:** Kitchens above grade.\n",
    "- **TotRmsAbvGrd:** Total rooms above grade (excluding bathrooms).\n",
    "- **Fireplaces:** Number of fireplaces.\n",
    "- **GarageYrBlt:** Year garage was built.\n",
    "- **GarageCars:** Size of garage in car capacity.\n",
    "- **GarageArea:** Size of garage in square feet.\n",
    "- **PavedDrive:** Paved driveway (Y, P, N).\n",
    "- **WoodDeckSF:** Wood deck area in square feet.\n",
    "- **OpenPorchSF:** Open porch area in square feet.\n",
    "- **EnclosedPorch:** Enclosed porch area in square feet.\n",
    "- **3SsnPorch:** Three-season porch area in square feet.\n",
    "- **ScreenPorch:** Screen porch area in square feet.\n",
    "- **PoolArea:** Pool area in square feet.\n",
    "- **PoolQC:** Pool quality (Ex, Gd, TA, Fa).\n",
    "- **MiscFeature:** Miscellaneous feature (e.g., Elevator, Shed).\n",
    "- **MiscVal:** Value of miscellaneous feature in dollars.\n",
    "- **MoSold:** Month sold.\n",
    "- **YrSold:** Year sold.\n",
    "- **SaleType:** Type of sale (e.g., WD, New, COD).\n",
    "- **SaleCondition:** Condition of sale (e.g., Normal, Abnormal).\n"
   ]
  },
  {
   "cell_type": "markdown",
   "metadata": {},
   "source": [
    "**********************************\\***********************************<br> **********************************\\***********************************\n"
   ]
  },
  {
   "cell_type": "markdown",
   "metadata": {},
   "source": [
    "# Variable Taken to Train Model Descriptions\n",
    "\n",
    "- **Neighborhood:** Property location within the city.\n",
    "- **OverallQual:** Overall material and finish quality (1-10).\n",
    "- **OverallCond:** Overall condition rating (1-10).\n",
    "- **YearBuilt:** Year the house was constructed.\n",
    "- **Foundation:** Type of house foundation.\n",
    "- **Electrical:** Type of electrical wiring.\n",
    "- **KitchenQual:** Kitchen quality rating (Ex, Gd, TA, Fa, Po).\n",
    "- **GarageType:** Type of garage (Attchd, Detchd, etc.).\n",
    "- **GarageFinish:** Interior garage finish (Fin, RFn, Unf).\n",
    "- **Fence:** Type of fence (GdPrv, MnPrv, etc.).\n"
   ]
  },
  {
   "cell_type": "markdown",
   "metadata": {},
   "source": [
    "Putting Data Together\n"
   ]
  },
  {
   "cell_type": "code",
   "execution_count": null,
   "metadata": {},
   "outputs": [],
   "source": [
    "data = pd.concat([train_data, test_data])\n",
    "data.shape"
   ]
  },
  {
   "cell_type": "markdown",
   "metadata": {},
   "source": [
    "**Data Information**\n"
   ]
  },
  {
   "cell_type": "code",
   "execution_count": null,
   "metadata": {},
   "outputs": [],
   "source": [
    "data.info()"
   ]
  },
  {
   "cell_type": "code",
   "execution_count": null,
   "metadata": {},
   "outputs": [],
   "source": [
    "int_feature = data.select_dtypes(include=[\"int64\"]).columns\n",
    "print(\"Total Number of Integer Features :\", int_feature.shape[0])\n",
    "print(\"Integer Feature Name\", int_feature.tolist())"
   ]
  },
  {
   "cell_type": "code",
   "execution_count": null,
   "metadata": {},
   "outputs": [],
   "source": [
    "float_feature = data.select_dtypes(include=[\"float64\"]).columns\n",
    "print(\"Total Number of Float Features :\", float_feature.shape[0])\n",
    "print(\"Float Feature Name\", float_feature.tolist())"
   ]
  },
  {
   "cell_type": "code",
   "execution_count": null,
   "metadata": {},
   "outputs": [],
   "source": [
    "cat_feature = data.select_dtypes(include=[\"object\"]).columns\n",
    "print(\"Total Number of Cat Features :\", cat_feature.shape[0])\n",
    "print(\"Cat Feature Name\", cat_feature.tolist())"
   ]
  },
  {
   "cell_type": "markdown",
   "metadata": {},
   "source": [
    "Statistical Information\n"
   ]
  },
  {
   "cell_type": "code",
   "execution_count": null,
   "metadata": {},
   "outputs": [],
   "source": [
    "data.describe().round(2)"
   ]
  },
  {
   "cell_type": "markdown",
   "metadata": {},
   "source": [
    "Getting List of Null data\n"
   ]
  },
  {
   "cell_type": "code",
   "execution_count": null,
   "metadata": {},
   "outputs": [],
   "source": [
    "plt.figure(figsize=(16, 9))\n",
    "sns.heatmap(data.isnull())\n",
    "plt.savefig(\"./Images/Sns_Heatmap_Data_IsNull.png\")"
   ]
  },
  {
   "cell_type": "markdown",
   "metadata": {},
   "source": [
    "Getting Name of Each Feature Having Null Values\n"
   ]
  },
  {
   "cell_type": "code",
   "execution_count": null,
   "metadata": {},
   "outputs": [],
   "source": [
    "null_column = data.columns[data.isnull().any()]\n",
    "null_column"
   ]
  },
  {
   "cell_type": "code",
   "execution_count": null,
   "metadata": {},
   "outputs": [],
   "source": [
    "null_percentage = data.isnull().sum() / data.shape[0] * 100\n",
    "null_percentage"
   ]
  },
  {
   "cell_type": "code",
   "execution_count": null,
   "metadata": {},
   "outputs": [],
   "source": [
    "miss_value_50_perc = null_percentage[null_percentage > 50]\n",
    "miss_value_50_perc"
   ]
  },
  {
   "cell_type": "code",
   "execution_count": null,
   "metadata": {},
   "outputs": [],
   "source": [
    "data[\"Alley\"].value_counts()"
   ]
  },
  {
   "cell_type": "code",
   "execution_count": null,
   "metadata": {},
   "outputs": [],
   "source": [
    "miss_value_20_50_perc = null_percentage[(null_percentage > 25) & (null_percentage < 51)]\n",
    "miss_value_20_50_perc"
   ]
  },
  {
   "cell_type": "code",
   "execution_count": null,
   "metadata": {},
   "outputs": [],
   "source": [
    "miss_value = null_percentage[null_percentage > 0]\n",
    "print(\"Total Missing value\", len(miss_value))"
   ]
  },
  {
   "cell_type": "code",
   "execution_count": null,
   "metadata": {},
   "outputs": [],
   "source": [
    "cat_miss_value = miss_value[miss_value.keys().isin(cat_feature)]\n",
    "print(\"Total Missing value\", len(cat_miss_value))"
   ]
  },
  {
   "cell_type": "code",
   "execution_count": null,
   "metadata": {},
   "outputs": [],
   "source": [
    "int_miss_value = miss_value[miss_value.keys().isin(int_feature)]\n",
    "print(\"Total Missing value\", len(int_miss_value))"
   ]
  },
  {
   "cell_type": "code",
   "execution_count": null,
   "metadata": {},
   "outputs": [],
   "source": [
    "float_miss_value = miss_value[miss_value.keys().isin(float_feature)]\n",
    "print(\"Total Missing value\", len(float_miss_value))"
   ]
  },
  {
   "cell_type": "code",
   "execution_count": null,
   "metadata": {},
   "outputs": [],
   "source": [
    "data[\"MSZoning\"].value_counts()"
   ]
  },
  {
   "cell_type": "code",
   "execution_count": null,
   "metadata": {},
   "outputs": [],
   "source": [
    "data_backup = data.copy()\n",
    "data_backup.shape"
   ]
  },
  {
   "cell_type": "code",
   "execution_count": null,
   "metadata": {},
   "outputs": [],
   "source": [
    "mszoning_mode = data[\"MSZoning\"].mode()[0]\n",
    "data[\"MSZoning\"].replace(np.nan, mszoning_mode, inplace=True)\n",
    "data[\"MSZoning\"].isnull().sum()"
   ]
  },
  {
   "cell_type": "code",
   "execution_count": null,
   "metadata": {},
   "outputs": [],
   "source": [
    "def oldCountPlot(df, df_new, feature):\n",
    "    plt.subplot(121)\n",
    "    sns.countplot(df[\"MSZoning\"])\n",
    "    plt.title(\"Old Data Distribution\")\n",
    "    plt.subplot(122)\n",
    "    sns.countplot(df_new[\"MSZoning\"])"
   ]
  },
  {
   "cell_type": "code",
   "execution_count": null,
   "metadata": {},
   "outputs": [],
   "source": [
    "oldCountPlot(data, data_backup, \"MSZoning\")"
   ]
  },
  {
   "cell_type": "markdown",
   "metadata": {},
   "source": [
    "Handling Garage Data\n"
   ]
  },
  {
   "cell_type": "code",
   "execution_count": null,
   "metadata": {},
   "outputs": [],
   "source": [
    "num_garage_feat = [\"GarageType\", \"GarageFinish\", \"GarageQual\", \"GarageCond\"]\n",
    "cat_garage_feat = [\"GarageCars\", \"GarageArea\", \"GarageYrBlt\"]\n",
    "\n",
    "\n",
    "data_garage = data_backup[num_garage_feat + cat_garage_feat]\n",
    "\n",
    "missing_garage_data = data_garage[data_garage.isnull().any(axis=1)]\n",
    "\n",
    "missing_garage_data"
   ]
  },
  {
   "cell_type": "code",
   "execution_count": null,
   "metadata": {},
   "outputs": [],
   "source": [
    "garage_cont = \"NA\"\n",
    "for feat in cat_garage_feat:\n",
    "    data[feat].replace(np.nan, garage_cont, inplace=True)\n",
    "data[cat_garage_feat].isnull().sum()"
   ]
  },
  {
   "cell_type": "code",
   "execution_count": null,
   "metadata": {},
   "outputs": [],
   "source": [
    "garage_cont = \"NA\"\n",
    "for feat in num_garage_feat:\n",
    "    data[feat].replace(np.nan, garage_cont, inplace=True)\n",
    "data[num_garage_feat].isnull().sum()"
   ]
  },
  {
   "cell_type": "code",
   "execution_count": null,
   "metadata": {},
   "outputs": [],
   "source": [
    "data.isnull().any(axis=1).sum()"
   ]
  },
  {
   "cell_type": "markdown",
   "metadata": {},
   "source": [
    "Feature Transformation\n"
   ]
  },
  {
   "cell_type": "markdown",
   "metadata": {},
   "source": [
    "Convert Numerical Feature to Categorical Feature\n"
   ]
  },
  {
   "cell_type": "code",
   "execution_count": null,
   "metadata": {},
   "outputs": [],
   "source": [
    "data.info()"
   ]
  },
  {
   "cell_type": "code",
   "execution_count": null,
   "metadata": {},
   "outputs": [],
   "source": [
    "for_num_conv = [\n",
    "    \"MSSubClass\",\n",
    "    \"YearBuilt\",\n",
    "    \"YearRemodAdd\",\n",
    "    \"GarageYrBlt\",\n",
    "    \"MoSold\",\n",
    "    \"YrSold\",\n",
    "]\n",
    "for feat in for_num_conv:\n",
    "    print(f\"{feat} : Data Type = {data[feat].dtype}\")"
   ]
  },
  {
   "cell_type": "code",
   "execution_count": null,
   "metadata": {},
   "outputs": [],
   "source": [
    "data[for_num_conv].head()"
   ]
  },
  {
   "cell_type": "code",
   "execution_count": null,
   "metadata": {},
   "outputs": [],
   "source": [
    "data[\"MoSold\"].unique()"
   ]
  },
  {
   "cell_type": "code",
   "execution_count": null,
   "metadata": {},
   "outputs": [],
   "source": [
    "calendar.month_abbr[12]"
   ]
  },
  {
   "cell_type": "code",
   "execution_count": null,
   "metadata": {},
   "outputs": [],
   "source": [
    "data[\"MoSold\"] = data[\"MoSold\"].apply(lambda x: calendar.month_abbr[x])\n",
    "data[\"MoSold\"].unique()"
   ]
  },
  {
   "cell_type": "code",
   "execution_count": null,
   "metadata": {},
   "outputs": [],
   "source": [
    "for feat in for_num_conv:\n",
    "    data[feat] = data[feat].astype(str)"
   ]
  },
  {
   "cell_type": "code",
   "execution_count": null,
   "metadata": {},
   "outputs": [],
   "source": [
    "for feat in for_num_conv:\n",
    "    print(f\"{feat} : data type={data[feat].dtype}\")"
   ]
  },
  {
   "cell_type": "code",
   "execution_count": null,
   "metadata": {},
   "outputs": [],
   "source": [
    "ordinal_end_var = [\n",
    "    \"Exter Qual\",\n",
    "    \"Exter Cond\",\n",
    "    \"BsmtQual\",\n",
    "    \"BsmtCond\",\n",
    "    \"Bsmt Exposure\",\n",
    "    \"BsmtFinType1\",\n",
    "    \"BsmtFinSF1\",\n",
    "    \"BsmtFinType2\",\n",
    "    \"HeatingQC\",\n",
    "    \"KitchenQual\",\n",
    "    \"FireplaceQu\",\n",
    "    \"GarageQual\",\n",
    "    \"GarageCond\",\n",
    "    \"PoolQC\",\n",
    "    \"Functional\",\n",
    "    \"GarageFinish\",\n",
    "    \"PavedDrive\",\n",
    "    \"Utilities\",\n",
    "]\n",
    "print(\n",
    "    f\"Total Number of Feature To Convert Ordinal Numerical Format :{len(ordinal_end_var)}\"\n",
    ")"
   ]
  },
  {
   "cell_type": "code",
   "execution_count": null,
   "metadata": {},
   "outputs": [],
   "source": [
    "data[\"ExterQual\"].unique()"
   ]
  },
  {
   "cell_type": "code",
   "execution_count": null,
   "metadata": {},
   "outputs": [],
   "source": [
    "exter_qual_dtype = CategoricalDtype(\n",
    "    categories=[\"Po\", \"Fa\", \"TA\", \"Gd\", \"Ex\"], ordered=True\n",
    ")"
   ]
  },
  {
   "cell_type": "code",
   "execution_count": null,
   "metadata": {},
   "outputs": [],
   "source": [
    "data[\"ExterQual\"] = data[\"ExterQual\"].astype(exter_qual_dtype).cat.codes"
   ]
  },
  {
   "cell_type": "code",
   "execution_count": null,
   "metadata": {},
   "outputs": [],
   "source": [
    "data[\"ExterQual\"].value_counts()"
   ]
  },
  {
   "cell_type": "code",
   "execution_count": null,
   "metadata": {},
   "outputs": [],
   "source": [
    "data[\"BsmtExposure\"].value_counts()"
   ]
  },
  {
   "cell_type": "code",
   "execution_count": null,
   "metadata": {},
   "outputs": [],
   "source": [
    "data[\"BsmtExposure\"] = data[\"BsmtExposure\"].astype(\n",
    "    CategoricalDtype(categories=[\"NA\", \"No\", \"Mn\", \"Av\", \"Gd\"], ordered=True)\n",
    ")"
   ]
  },
  {
   "cell_type": "code",
   "execution_count": null,
   "metadata": {},
   "outputs": [],
   "source": [
    "data[\"BsmtExposure\"].value_counts()"
   ]
  },
  {
   "cell_type": "code",
   "execution_count": null,
   "metadata": {},
   "outputs": [],
   "source": [
    "data[\"ExterCond\"] = data[\"ExterCond\"].astype(\n",
    "    CategoricalDtype(categories=[\"Po\", \"Fa\", \"TA\", \"Gd\", \"Ex\"], ordered=True)\n",
    ")\n",
    "\n",
    "data[\"BsmtQual\"] = data[\"BsmtQual\"].astype(\n",
    "    CategoricalDtype(categories=[\"NA\", \"Po\", \"Fa\", \"TA\", \"Gd\", \"Ex\"], ordered=True)\n",
    ")\n",
    "\n",
    "data[\"BsmtCond\"] = data[\"BsmtCond\"].astype(\n",
    "    CategoricalDtype(categories=[\"NA\", \"Po\", \"Fa\", \"TA\", \"Gd\", \"Ex\"], ordered=True)\n",
    ")\n",
    "\n",
    "data[\"BsmtFinType1\"] = data[\"BsmtFinType1\"].astype(\n",
    "    CategoricalDtype(\n",
    "        categories=[\"NA\", \"Unf\", \"LwQ\", \"Rec\", \"BLQ\", \"ALQ\", \"GLQ\"], ordered=True\n",
    "    )\n",
    ")\n",
    "\n",
    "data[\"BsmtFinType2\"] = data[\"BsmtFinType2\"].astype(\n",
    "    CategoricalDtype(\n",
    "        categories=[\"NA\", \"Unf\", \"LwQ\", \"Rec\", \"BLQ\", \"ALQ\", \"GLQ\"], ordered=True\n",
    "    )\n",
    ")\n",
    "\n",
    "data[\"HeatingQC\"] = data[\"HeatingQC\"].astype(\n",
    "    CategoricalDtype(categories=[\"Po\", \"Fa\", \"TA\", \"Gd\", \"Ex\"], ordered=True)\n",
    ")\n",
    "\n",
    "data[\"KitchenQual\"] = data[\"KitchenQual\"].astype(\n",
    "    CategoricalDtype(categories=[\"Po\", \"Fa\", \"TA\", \"Gd\", \"Ex\"], ordered=True)\n",
    ")\n",
    "\n",
    "data[\"FireplaceQu\"] = data[\"FireplaceQu\"].astype(\n",
    "    CategoricalDtype(categories=[\"NA\", \"Po\", \"Fa\", \"TA\", \"Gd\", \"Ex\"], ordered=True)\n",
    ")\n",
    "\n",
    "data[\"GarageQual\"] = data[\"GarageQual\"].astype(\n",
    "    CategoricalDtype(categories=[\"NA\", \"Po\", \"Fa\", \"TA\", \"Gd\", \"Ex\"], ordered=True)\n",
    ")\n",
    "\n",
    "data[\"GarageCond\"] = data[\"GarageCond\"].astype(\n",
    "    CategoricalDtype(categories=[\"NA\", \"Po\", \"Fa\", \"TA\", \"Gd\", \"Ex\"], ordered=True)\n",
    ")\n",
    "\n",
    "data[\"PoolQC\"] = data[\"PoolQC\"].astype(\n",
    "    CategoricalDtype(categories=[\"NA\", \"Fa\", \"TA\", \"Gd\", \"Ex\"], ordered=True)\n",
    ")\n",
    "\n",
    "data[\"Functional\"] = data[\"Functional\"].astype(\n",
    "    CategoricalDtype(\n",
    "        categories=[\"Sal\", \"Sev\", \"Maj2\", \"Maj1\", \"Mod\", \"Min2\", \"Min1\", \"Typ\"],\n",
    "        ordered=True,\n",
    "    )\n",
    ")\n",
    "\n",
    "data[\"GarageFinish\"] = data[\"GarageFinish\"].astype(\n",
    "    CategoricalDtype(categories=[\"NA\", \"Unf\", \"RFn\", \"Fin\"], ordered=True)\n",
    ")\n",
    "\n",
    "data[\"PavedDrive\"] = data[\"PavedDrive\"].astype(\n",
    "    CategoricalDtype(categories=[\"N\", \"P\", \"Y\"], ordered=True)\n",
    ")\n",
    "\n",
    "data[\"Utilities\"] = data[\"Utilities\"].astype(\n",
    "    CategoricalDtype(categories=[\"ELO\", \"NoSeWa\", \"NoSeWr\", \"AllPub\"], ordered=True)\n",
    ")"
   ]
  },
  {
   "cell_type": "code",
   "execution_count": null,
   "metadata": {},
   "outputs": [],
   "source": [
    "data.info()"
   ]
  },
  {
   "cell_type": "markdown",
   "metadata": {},
   "source": [
    "One Hot Encoding for Nominal Categorical Data\n"
   ]
  },
  {
   "cell_type": "code",
   "execution_count": null,
   "metadata": {},
   "outputs": [],
   "source": [
    "data_encod = data.copy()\n",
    "object_feature = data_encod.select_dtypes(include=\"object\").columns.tolist()\n",
    "print(\"Total Object Data Type Features : \", len(object_feature))\n",
    "print(\"Feature\", object_feature)"
   ]
  },
  {
   "cell_type": "code",
   "execution_count": null,
   "metadata": {},
   "outputs": [],
   "source": [
    "data_encod[object_feature].head(2)"
   ]
  },
  {
   "cell_type": "code",
   "execution_count": null,
   "metadata": {},
   "outputs": [],
   "source": [
    "data_encod[\"MSZoning\"].value_counts()"
   ]
  },
  {
   "cell_type": "code",
   "execution_count": null,
   "metadata": {},
   "outputs": [],
   "source": [
    "pd.get_dummies(\n",
    "    data_encod[\"MSZoning\"],\n",
    "    columns=\"MSZoning\",\n",
    "    prefix=\"MSZoning\",\n",
    "    drop_first=False,\n",
    ")"
   ]
  },
  {
   "cell_type": "code",
   "execution_count": null,
   "metadata": {},
   "outputs": [],
   "source": [
    "print(\"Shape of DF before ecoding\", data_encod.shape)\n",
    "data_encod = pd.get_dummies(\n",
    "    data_encod, columns=object_feature, prefix=object_feature, drop_first=True\n",
    ")\n",
    "print(\"Shape of DF after ecoding\", data_encod.shape)"
   ]
  },
  {
   "cell_type": "code",
   "execution_count": null,
   "metadata": {},
   "outputs": [],
   "source": [
    "data_encod.head(2)"
   ]
  },
  {
   "cell_type": "code",
   "execution_count": null,
   "metadata": {},
   "outputs": [],
   "source": [
    "data_encod.select_dtypes(include=\"object\").columns.tolist()"
   ]
  },
  {
   "cell_type": "markdown",
   "metadata": {},
   "source": [
    "Split Data For Training and Testing"
   ]
  },
  {
   "cell_type": "code",
   "execution_count": null,
   "metadata": {},
   "outputs": [],
   "source": [
    "data_encod.shape"
   ]
  },
  {
   "cell_type": "code",
   "execution_count": null,
   "metadata": {},
   "outputs": [],
   "source": [
    "len_train = train_data.shape[0]\n",
    "len_train"
   ]
  },
  {
   "cell_type": "code",
   "execution_count": null,
   "metadata": {},
   "outputs": [],
   "source": [
    "X_train = data_encod[:len_train].drop(\"SalePrice\", axis=1)\n",
    "y_train = data_encod[\"SalePrice\"][:len_train]\n",
    "X_test = data_encod[len_train:].drop(\"SalePrice\", axis=1)\n",
    "print(\"Shape of X train data\", X_train.shape)\n",
    "print(\"Shape of y_train data\", y_train.shape)\n",
    "print(\"Shape of X_test data\", X_test.shape)"
   ]
  },
  {
   "cell_type": "code",
   "execution_count": null,
   "metadata": {},
   "outputs": [],
   "source": [
    "sc = StandardScaler()"
   ]
  },
  {
   "cell_type": "markdown",
   "metadata": {},
   "source": [
    "z=$\\frac{(x-u)}{s}$"
   ]
  },
  {
   "cell_type": "code",
   "execution_count": null,
   "metadata": {},
   "outputs": [],
   "source": [
    "X_train = X_train.select_dtypes(include=[np.number])\n",
    "X_test = X_test.select_dtypes(include=[np.number])"
   ]
  },
  {
   "cell_type": "code",
   "execution_count": null,
   "metadata": {},
   "outputs": [],
   "source": [
    "X_train = sc.fit_transform(X_train)\n",
    "X_test = sc.transform(X_test)"
   ]
  },
  {
   "cell_type": "code",
   "execution_count": null,
   "metadata": {},
   "outputs": [],
   "source": [
    "sc.mean_.shape"
   ]
  },
  {
   "cell_type": "code",
   "execution_count": null,
   "metadata": {},
   "outputs": [],
   "source": [
    "sc.n_features_in_"
   ]
  },
  {
   "cell_type": "code",
   "execution_count": null,
   "metadata": {},
   "outputs": [],
   "source": [
    "sc.n_samples_seen_.shape"
   ]
  },
  {
   "cell_type": "code",
   "execution_count": null,
   "metadata": {},
   "outputs": [],
   "source": [
    "sc.var_.shape"
   ]
  },
  {
   "cell_type": "code",
   "execution_count": null,
   "metadata": {},
   "outputs": [],
   "source": [
    "sc.with_mean"
   ]
  },
  {
   "cell_type": "code",
   "execution_count": null,
   "metadata": {},
   "outputs": [],
   "source": [
    "sc.with_std"
   ]
  },
  {
   "cell_type": "markdown",
   "metadata": {},
   "source": [
    "Train The Model"
   ]
  },
  {
   "cell_type": "code",
   "execution_count": null,
   "metadata": {},
   "outputs": [],
   "source": [
    "from sklearn.linear_model import LinearRegression\n",
    "from sklearn.svm import SVR\n",
    "from sklearn.linear_model import SGDRegressor\n",
    "from sklearn.neighbors import KNeighborsRegressor\n",
    "from sklearn.gaussian_process import GaussianProcessRegressor\n",
    "from sklearn.tree import DecisionTreeRegressor\n",
    "from sklearn.ensemble import GradientBoostingRegressor, RandomForestRegressor\n",
    "from xgboost import XGBRegressor\n",
    "from sklearn.isotonic import IsotonicRegression\n",
    "from sklearn.impute import SimpleImputer\n",
    "from sklearn.model_selection import KFold, cross_val_score\n",
    "from sklearn.metrics import make_scorer, r2_score"
   ]
  },
  {
   "cell_type": "code",
   "execution_count": null,
   "metadata": {},
   "outputs": [],
   "source": [
    "svr = SVR()\n",
    "lr = LinearRegression()\n",
    "sgdr = SGDRegressor()\n",
    "knr = KNeighborsRegressor()\n",
    "gpr = GaussianProcessRegressor()\n",
    "dtr = DecisionTreeRegressor()\n",
    "gbr = GradientBoostingRegressor()\n",
    "rfr = RandomForestRegressor()\n",
    "xgbr = XGBRegressor()\n",
    "ir = IsotonicRegression()"
   ]
  },
  {
   "cell_type": "code",
   "execution_count": null,
   "metadata": {},
   "outputs": [],
   "source": [
    "models = {\n",
    "    \"a\": [\"LinearRegression\", lr],\n",
    "    \"b\": [\"SVR\", svr],\n",
    "    \"c\": [\"SGDRegressor\", sgdr],\n",
    "    \"d\": [\"KNeighborsRegressor\", knr],\n",
    "    \"e\": [\"Gaussian Process Regressor\", gpr],\n",
    "    \"f\": [\"DecisionTreeRegressor\", dtr],\n",
    "    \"g\": [\"GradientBoostingRegressor\", gbr],\n",
    "    \"h\": [\"RandomForestRegressor\", rfr],\n",
    "    \"i\": [\"XGBRegressor\", xgbr],\n",
    "    \"j\": [\"IsotonicRegression\", ir],\n",
    "}"
   ]
  },
  {
   "cell_type": "code",
   "execution_count": null,
   "metadata": {},
   "outputs": [],
   "source": [
    "def test_model(model, X_train, y_train):\n",
    "    cv = KFold(n_splits=7, shuffle=True, random_state=45)\n",
    "    r2 = make_scorer(r2_score)\n",
    "    r2_val_score = cross_val_score(model, X_train, y_train, cv=cv, scoring=r2)\n",
    "    score = [r2_val_score.mean()]\n",
    "    return score"
   ]
  },
  {
   "cell_type": "code",
   "execution_count": null,
   "metadata": {},
   "outputs": [],
   "source": [
    "models_score = []\n",
    "\n",
    "for key in models:\n",
    "    model_name, model_instance = models[key]\n",
    "    print(f\"Training model: {model_name}\")\n",
    "\n",
    "    try:\n",
    "        score = test_model(model_instance, X_train, y_train)  # <-- FIXED HERE\n",
    "\n",
    "        final_score = score[0] if isinstance(score, (list, tuple)) else score\n",
    "\n",
    "        models_score.append((model_name, final_score))\n",
    "        print(f\"Score of model ({model_name}): {final_score}\")\n",
    "\n",
    "    except Exception as e:\n",
    "        print(f\"Model {model_name} failed: {e}\")\n",
    "        continue\n",
    "# ...existing code..."
   ]
  },
  {
   "cell_type": "code",
   "execution_count": null,
   "metadata": {},
   "outputs": [],
   "source": [
    "max_accuracy_model = max(models_score, key=lambda x: x[1])\n",
    "\n",
    "print(\n",
    "    f\"Model: { max_accuracy_model[0] } has Maximum accuracy score: { (max_accuracy_model[1]*100).round(2) }%\"\n",
    ")"
   ]
  },
  {
   "cell_type": "code",
   "execution_count": null,
   "metadata": {},
   "outputs": [],
   "source": []
  }
 ],
 "metadata": {
  "kernelspec": {
   "display_name": "Python 3",
   "language": "python",
   "name": "python3"
  },
  "language_info": {
   "codemirror_mode": {
    "name": "ipython",
    "version": 3
   },
   "file_extension": ".py",
   "mimetype": "text/x-python",
   "name": "python",
   "nbconvert_exporter": "python",
   "pygments_lexer": "ipython3",
   "version": "3.13.3"
  }
 },
 "nbformat": 4,
 "nbformat_minor": 2
}
